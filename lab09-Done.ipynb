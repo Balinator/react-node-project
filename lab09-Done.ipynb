{
  "nbformat": 4,
  "nbformat_minor": 0,
  "metadata": {
    "hide_input": false,
    "kernelspec": {
      "display_name": "Python 3",
      "language": "python",
      "name": "python3"
    },
    "language_info": {
      "codemirror_mode": {
        "name": "ipython",
        "version": 3
      },
      "file_extension": ".py",
      "mimetype": "text/x-python",
      "name": "python",
      "nbconvert_exporter": "python",
      "pygments_lexer": "ipython3",
      "version": "3.7.1"
    },
    "colab": {
      "name": "lab09.ipynb",
      "provenance": [],
      "collapsed_sections": []
    }
  },
  "cells": [
    {
      "cell_type": "markdown",
      "metadata": {
        "id": "uXnfck1X5fzI"
      },
      "source": [
        "# FP-Growth algoritmus\n",
        "\n",
        "\n",
        "\n",
        "----\n"
      ]
    },
    {
      "cell_type": "markdown",
      "metadata": {
        "id": "pfChBnUs5fzJ"
      },
      "source": [
        "Az Apriori algoritmus lentről felfele építkezve, minden lépésben jelölteket generál. A jelöltek száma igencsak nagy lehet és előállításukhoz minden lépésben az adatbázist át kell olvasni.\n",
        "\n",
        "\n",
        "Az [FP-bővítés](https://gyires.inf.unideb.hu/KMITT/a04/ch06s06.html) (angol elnevezése [FP-Growth](https://www.softwaretestinghelp.com/fp-growth-algorithm-data-mining/)-) szintén egy gyakori elemhalmazok kinyerésére szolgáló algoritmus, amely hatékonyabb eredményt képes elérni, mivel nem a generál és tesztel paradigmát követi. Ehelyett az adathalmazt egy kompakt struktúrába sűríti, melynek neve az FP-fa (gyakori mintázatok fája), ezután a gyakori elemhalmazokat közvetlenül ebből a strúktúrából nyerhetőek ki. Az algoritmus csak kétszer kell végigolvassa az adatlhalmazt, elöszőr az elemek támogatottsági szintjének megállapítására, másodszor pedig az FP-fa felépítésére.  "
      ]
    },
    {
      "cell_type": "markdown",
      "metadata": {
        "id": "uQTugELQ5fzL"
      },
      "source": [
        "Az algoritmus egyik Python [implementációja](https://github.com/evandempsey/fp-growth) a [pygrowth](https://pypi.org/project/pygrowth/) csomagban érhető el. \n",
        "\n"
      ]
    },
    {
      "cell_type": "code",
      "metadata": {
        "id": "rWoO-2cQ5oHX",
        "colab": {
          "base_uri": "https://localhost:8080/"
        },
        "outputId": "02c5df7b-61c8-46d7-d2b5-8d29d3ce568f"
      },
      "source": [
        "!pip install pyfpgrowth"
      ],
      "execution_count": null,
      "outputs": [
        {
          "output_type": "stream",
          "text": [
            "Collecting pyfpgrowth\n",
            "\u001b[?25l  Downloading https://files.pythonhosted.org/packages/d2/4c/8b7cd90b4118ff0286d6584909b99e1ca5642bdc9072fa5a8dd361c864a0/pyfpgrowth-1.0.tar.gz (1.6MB)\n",
            "\u001b[K     |████████████████████████████████| 1.6MB 5.3MB/s \n",
            "\u001b[?25hBuilding wheels for collected packages: pyfpgrowth\n",
            "  Building wheel for pyfpgrowth (setup.py) ... \u001b[?25l\u001b[?25hdone\n",
            "  Created wheel for pyfpgrowth: filename=pyfpgrowth-1.0-py2.py3-none-any.whl size=5477 sha256=83fbba52b28a5f6e6cb3b33354c54602a15d668591d4085fd7fc9be7bf35e29e\n",
            "  Stored in directory: /root/.cache/pip/wheels/3b/3f/0d/a04bb8b17887c1eca7d0f1a48d4aa0c09c96eb221ff7fa56c1\n",
            "Successfully built pyfpgrowth\n",
            "Installing collected packages: pyfpgrowth\n",
            "Successfully installed pyfpgrowth-1.0\n"
          ],
          "name": "stdout"
        }
      ]
    },
    {
      "cell_type": "markdown",
      "metadata": {
        "id": "r2heZeSllmVl"
      },
      "source": [
        "A gyakori minták meghatározására a `find_frequent_patterns` metódust használjuk míg az asszociációs szabályok kinyerésére a `generate_association_rules`-t. Ezekre építve könnyen definiálhatunk egy függvényt mely adott megakapozotság és megbizhatóság szerint megkeresi egy adathalmazból a kinyeri a gyakori mintákat és asszociációs szabályokat."
      ]
    },
    {
      "cell_type": "code",
      "metadata": {
        "id": "tFSBUmthlnQw"
      },
      "source": [
        "import pyfpgrowth as fpg\n",
        "\n",
        "def mine_fp_growth_association_rules(records, minsup, minconf):\n",
        "    freq_patterns = fpg.find_frequent_patterns(records, minsup * len(records))\n",
        "    rules = fpg.generate_association_rules(freq_patterns, minconf)\n",
        "    return (freq_patterns, rules)\n",
        "\n",
        "# example usage: patterns, rules = mine_fp_growth_association_rules(records, 0.01, 0.1)"
      ],
      "execution_count": null,
      "outputs": []
    },
    {
      "cell_type": "markdown",
      "metadata": {
        "id": "YmiYFeQpp_Ns"
      },
      "source": [
        "# Feladatok\n",
        "\n",
        "1. Olvassa el a következő cikkeket és röviden vázolja fel a fő különbségeket az Apriori és FP-Growth módszerek között, ismertesse az FP-Growth előnyeit és hátrányait:    \n",
        "  - [Az FP-bővítés algoritmus](https://gyires.inf.unideb.hu/KMITT/a04/ch06s06.html)\n",
        "  - [Frequent Pattern (FP) Growth Algorithm In Data Mining](https://www.softwaretestinghelp.com/fp-growth-algorithm-data-mining/)   \n",
        "\n",
        "2. A múlt laborórán megtisztított (`nan`-t nem tartalmazó) adatokra futtassa le az FP-Growth algoritmust, mutassa be a kinyert gyakori mintákat és asszociációs szabályokat.  "
      ]
    },
    {
      "cell_type": "markdown",
      "metadata": {
        "id": "0DoG5H3P0yy0"
      },
      "source": [
        "#1.\n",
        "\n",
        "## Apriori\n",
        "- Lassabb mint az FP-Growth\n",
        "- Úgy generálja ki a mintákat, hogy párositja az elemeket singletonokba, majd párokba és tripletekbe\n",
        "- Többszöri adatbázison való átjárást igényel ahhoz, hogy kigenerálja a fát\n",
        "- Szélességi bejárást használ\n",
        "\n",
        "## FP-Growth\n",
        "- Gyorsabb mint az Apriori\n",
        "- A minták kigenerálásával egy FP fát épit\n",
        "- Kétszer megy végig az adatbázison\n",
        "- Mélységi bejárást használ\n",
        "\n",
        "## FP-Growth hátrány\n",
        "- Sokkal nehezebb az FP fa kigenerálása mint az Apriorinak.\n",
        "- Költséges lehet memória szempontjából.\n",
        "- Nagy adatbázis esetén nem biztos hogy belefér a memóriába.\n",
        "\n",
        "## FP-Growth előny\n",
        "- Kétszer megy végig az adatbázison\n",
        "- Az elemek párositása nem az algoritmusban hajtódik végre, ezért gyorsabb\n",
        "- Hatékony és skálázható mind a kis és mind a nagy gyakori minták kinyerésére\n",
        "\n"
      ]
    },
    {
      "cell_type": "markdown",
      "metadata": {
        "id": "8e_lSN0v04VJ"
      },
      "source": [
        "#2"
      ]
    },
    {
      "cell_type": "code",
      "metadata": {
        "id": "8HUJJCsR0386"
      },
      "source": [
        "import numpy as np   \n",
        "import pandas as pd\n",
        "from google.colab import files\n",
        "files.upload()\n",
        "\n",
        "data = pd.read_csv('./data.csv', header=None) \n",
        "all_items = np.concatenate(data.values)\n",
        "all_items = [x for x in all_items if str(x) != 'nan']\n",
        "\n",
        "result = mine_fp_growth_association_rules(all_items, 0.5, 0.5)\n",
        "print(result)"
      ],
      "execution_count": null,
      "outputs": []
    }
  ]
}